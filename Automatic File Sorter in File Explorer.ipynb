{
 "cells": [
  {
   "cell_type": "markdown",
   "id": "11959754-23c1-4bf4-8586-fd1c9417bf74",
   "metadata": {},
   "source": [
    "Automatic File Sorter"
   ]
  },
  {
   "cell_type": "code",
   "execution_count": 8,
   "id": "5ca89b02-aec5-4cae-b382-079e0cc14e60",
   "metadata": {},
   "outputs": [],
   "source": [
    "import os, shutil\n",
    "\n",
    "path = r\"E:/Python Sorter/\"\n",
    "\n"
   ]
  },
  {
   "cell_type": "code",
   "execution_count": 9,
   "id": "31c6653a-8643-49cc-b4ec-1785eb3fa3d4",
   "metadata": {},
   "outputs": [],
   "source": [
    "file_name = os.listdir(path)"
   ]
  },
  {
   "cell_type": "code",
   "execution_count": 18,
   "id": "ca48104e-f1fe-439e-8219-1af513acbbed",
   "metadata": {},
   "outputs": [],
   "source": [
    "folder_names = ['image files', 'mp4 files', 'pdf files']\n",
    "\n",
    "for loop in range (0, 3):\n",
    "    if not os.path.exists(path + folder_names[loop]):\n",
    "        os.makedirs(path + folder_names[loop])\n",
    "\n",
    "for file in file_name:\n",
    "    if \".png\" in file and not os.path.exists(path + \"image files/\" + file):\n",
    "        shutil.move(path + file, path + \"image files/\" + file)\n",
    "    if \".pdf\" in file and not os.path.exists(path + \"pdf files/\" + file):\n",
    "        shutil.move(path + file, path + \"pdf files/\" + file)\n",
    "    if \".mp4\" in file and not os.path.exists(path + \"mp4 files/\" + file):\n",
    "        shutil.move(path + file, path + \"mp4 files/\" + file)"
   ]
  },
  {
   "cell_type": "code",
   "execution_count": null,
   "id": "1e02f1ff-7d76-442f-b0a3-5719605bd08c",
   "metadata": {},
   "outputs": [],
   "source": []
  }
 ],
 "metadata": {
  "kernelspec": {
   "display_name": "Python 3 (ipykernel)",
   "language": "python",
   "name": "python3"
  },
  "language_info": {
   "codemirror_mode": {
    "name": "ipython",
    "version": 3
   },
   "file_extension": ".py",
   "mimetype": "text/x-python",
   "name": "python",
   "nbconvert_exporter": "python",
   "pygments_lexer": "ipython3",
   "version": "3.13.5"
  }
 },
 "nbformat": 4,
 "nbformat_minor": 5
}
